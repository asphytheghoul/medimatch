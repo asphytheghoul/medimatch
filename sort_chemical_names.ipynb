{
 "cells": [
  {
   "cell_type": "code",
   "execution_count": 97,
   "metadata": {},
   "outputs": [],
   "source": [
    "import pandas as pd\n",
    "import numpy as np"
   ]
  },
  {
   "cell_type": "code",
   "execution_count": 128,
   "metadata": {},
   "outputs": [],
   "source": [
    "df = pd.read_csv('FINAL_DATASET.csv')\n"
   ]
  },
  {
   "cell_type": "code",
   "execution_count": 129,
   "metadata": {},
   "outputs": [],
   "source": [
    "df[\"NAME\"] = df[\"NAME\"].str.lower()"
   ]
  },
  {
   "cell_type": "code",
   "execution_count": 130,
   "metadata": {},
   "outputs": [],
   "source": [
    "df = df.sort_values(by=['NAME'])"
   ]
  },
  {
   "cell_type": "code",
   "execution_count": 131,
   "metadata": {},
   "outputs": [
    {
     "data": {
      "text/html": [
       "<div>\n",
       "<style scoped>\n",
       "    .dataframe tbody tr th:only-of-type {\n",
       "        vertical-align: middle;\n",
       "    }\n",
       "\n",
       "    .dataframe tbody tr th {\n",
       "        vertical-align: top;\n",
       "    }\n",
       "\n",
       "    .dataframe thead th {\n",
       "        text-align: right;\n",
       "    }\n",
       "</style>\n",
       "<table border=\"1\" class=\"dataframe\">\n",
       "  <thead>\n",
       "    <tr style=\"text-align: right;\">\n",
       "      <th></th>\n",
       "      <th>IMAGE LINKS</th>\n",
       "      <th>OCR-TEXT</th>\n",
       "      <th>NAME</th>\n",
       "    </tr>\n",
       "  </thead>\n",
       "  <tbody>\n",
       "    <tr>\n",
       "      <th>7</th>\n",
       "      <td>https://onemg.gumlet.io/l_watermark_346,w_480,...</td>\n",
       "      <td>AB-FLO-N Each film coated bilayered tablet con...</td>\n",
       "      <td>ab-flo-n tablet</td>\n",
       "    </tr>\n",
       "    <tr>\n",
       "      <th>8</th>\n",
       "      <td>https://onemg.gumlet.io/l_watermark_346,w_480,...</td>\n",
       "      <td>Each acemiz plus coined tablet contains:  Stor...</td>\n",
       "      <td>acemiz plus tablet</td>\n",
       "    </tr>\n",
       "    <tr>\n",
       "      <th>26</th>\n",
       "      <td>https://onemg.gumlet.io/l_watermark_346,w_480,...</td>\n",
       "      <td>Avenac-P Acenac</td>\n",
       "      <td>acenac-p  tablet</td>\n",
       "    </tr>\n",
       "    <tr>\n",
       "      <th>3</th>\n",
       "      <td>https://onemg.gumlet.io/l_watermark_346,w_480,...</td>\n",
       "      <td>Film-coated Manufactured by CADILA PHERDACEUTI...</td>\n",
       "      <td>aciloc 150 tablet</td>\n",
       "    </tr>\n",
       "    <tr>\n",
       "      <th>126</th>\n",
       "      <td>https://onemg.gumlet.io/l_watermark_346,w_480,...</td>\n",
       "      <td>Tablets Film-Coated RANITIDINE TABLETS IP 150 ...</td>\n",
       "      <td>aciloc 150 tablet</td>\n",
       "    </tr>\n",
       "  </tbody>\n",
       "</table>\n",
       "</div>"
      ],
      "text/plain": [
       "                                           IMAGE LINKS  \\\n",
       "7    https://onemg.gumlet.io/l_watermark_346,w_480,...   \n",
       "8    https://onemg.gumlet.io/l_watermark_346,w_480,...   \n",
       "26   https://onemg.gumlet.io/l_watermark_346,w_480,...   \n",
       "3    https://onemg.gumlet.io/l_watermark_346,w_480,...   \n",
       "126  https://onemg.gumlet.io/l_watermark_346,w_480,...   \n",
       "\n",
       "                                              OCR-TEXT                NAME  \n",
       "7    AB-FLO-N Each film coated bilayered tablet con...     ab-flo-n tablet  \n",
       "8    Each acemiz plus coined tablet contains:  Stor...  acemiz plus tablet  \n",
       "26                                     Avenac-P Acenac    acenac-p  tablet  \n",
       "3    Film-coated Manufactured by CADILA PHERDACEUTI...   aciloc 150 tablet  \n",
       "126  Tablets Film-Coated RANITIDINE TABLETS IP 150 ...   aciloc 150 tablet  "
      ]
     },
     "execution_count": 131,
     "metadata": {},
     "output_type": "execute_result"
    }
   ],
   "source": [
    "df.head()"
   ]
  },
  {
   "cell_type": "code",
   "execution_count": 132,
   "metadata": {},
   "outputs": [
    {
     "data": {
      "text/plain": [
       "Int64Index([  7,   8,  26,   3, 126,  24,  14,  20,  22,  23,\n",
       "            ...\n",
       "            724, 723, 725, 732, 734, 742, 729, 737, 733, 739],\n",
       "           dtype='int64', length=743)"
      ]
     },
     "execution_count": 132,
     "metadata": {},
     "output_type": "execute_result"
    }
   ],
   "source": [
    "df.index"
   ]
  },
  {
   "cell_type": "code",
   "execution_count": 133,
   "metadata": {},
   "outputs": [
    {
     "name": "stdout",
     "output_type": "stream",
     "text": [
      "591\n"
     ]
    }
   ],
   "source": [
    "list_names = [x for x in df[\"NAME\"]]\n",
    "list_names = list(set(list_names))\n",
    "list_names.sort()\n",
    "print(len(list_names))\n"
   ]
  },
  {
   "cell_type": "code",
   "execution_count": 134,
   "metadata": {},
   "outputs": [],
   "source": [
    "# list_names[2] = \"acenac-p tablet\"\n",
    "# list_names[10] = \"alex cough lozenges lemon ginger\"\n",
    "# list_names"
   ]
  },
  {
   "cell_type": "code",
   "execution_count": 135,
   "metadata": {},
   "outputs": [],
   "source": [
    "list_names_2 = [x.replace(\"  \",\" \") for x in list_names]"
   ]
  },
  {
   "cell_type": "code",
   "execution_count": 136,
   "metadata": {},
   "outputs": [
    {
     "data": {
      "text/plain": [
       "'crocin advance 500mg tablet'"
      ]
     },
     "execution_count": 136,
     "metadata": {},
     "output_type": "execute_result"
    }
   ],
   "source": [
    "list_names_2[110]"
   ]
  },
  {
   "cell_type": "code",
   "execution_count": 137,
   "metadata": {},
   "outputs": [],
   "source": [
    "df = pd.read_csv(\"A_Z_medicines_dataset_of_India.csv\")"
   ]
  },
  {
   "cell_type": "code",
   "execution_count": 138,
   "metadata": {},
   "outputs": [],
   "source": [
    "df[\"name\"] = df[\"name\"].str.lower()\n",
    "df[\"name\"] = df[\"name\"].str.replace(\"  \",\" \")"
   ]
  },
  {
   "cell_type": "code",
   "execution_count": 139,
   "metadata": {},
   "outputs": [],
   "source": [
    "df_name = [x for x in df[\"name\"]]"
   ]
  },
  {
   "cell_type": "code",
   "execution_count": 140,
   "metadata": {},
   "outputs": [
    {
     "name": "stdout",
     "output_type": "stream",
     "text": [
      "acton-or tablet 7\n",
      "alex cough lozenges 10\n",
      "bisoheart-am 5 tablet 67\n",
      "crocin advance 500mg tablet 110\n",
      "insta raft oral suspension 242\n",
      "istamet d -xr 1000 tablet 247\n",
      "kerendia 10 tablet 280\n"
     ]
    }
   ],
   "source": [
    "for element in list_names_2:\n",
    "    if element not in df_name:\n",
    "        # list_names_2.remove(element)\n",
    "        print(element,list_names_2.index(element))"
   ]
  },
  {
   "cell_type": "code",
   "execution_count": 141,
   "metadata": {},
   "outputs": [],
   "source": [
    "list_names_2[7] = \"acton-or tablet sr\"\n",
    "list_names_2[10] = \"alex cough lozenges lemon ginger\"\n",
    "list_names_2[67] = \"bisoheart-am 2.5 tablet\"\n",
    "list_names_2[110] = \"crocin advance tablet\"\n",
    "list_names_2.remove(\"insta raft oral suspension\")\n",
    "list_names_2.remove(\"istamet d -xr 1000 tablet\")"
   ]
  },
  {
   "cell_type": "code",
   "execution_count": 142,
   "metadata": {},
   "outputs": [],
   "source": [
    "list_names_2[278] = \"kerendia tablet\"\n"
   ]
  },
  {
   "cell_type": "code",
   "execution_count": 143,
   "metadata": {},
   "outputs": [],
   "source": [
    "for element in list_names_2:\n",
    "    if element not in df_name:\n",
    "        # list_names_2.remove(element)\n",
    "        print(element,list_names_2.index(element))"
   ]
  },
  {
   "cell_type": "code",
   "execution_count": 147,
   "metadata": {},
   "outputs": [],
   "source": [
    "list_names_2.sort()"
   ]
  },
  {
   "cell_type": "code",
   "execution_count": 148,
   "metadata": {},
   "outputs": [
    {
     "data": {
      "text/plain": [
       "589"
      ]
     },
     "execution_count": 148,
     "metadata": {},
     "output_type": "execute_result"
    }
   ],
   "source": [
    "len(list_names_2)"
   ]
  },
  {
   "cell_type": "code",
   "execution_count": 149,
   "metadata": {},
   "outputs": [
    {
     "data": {
      "text/html": [
       "<div>\n",
       "<style scoped>\n",
       "    .dataframe tbody tr th:only-of-type {\n",
       "        vertical-align: middle;\n",
       "    }\n",
       "\n",
       "    .dataframe tbody tr th {\n",
       "        vertical-align: top;\n",
       "    }\n",
       "\n",
       "    .dataframe thead th {\n",
       "        text-align: right;\n",
       "    }\n",
       "</style>\n",
       "<table border=\"1\" class=\"dataframe\">\n",
       "  <thead>\n",
       "    <tr style=\"text-align: right;\">\n",
       "      <th></th>\n",
       "      <th>IMAGE LINKS</th>\n",
       "      <th>OCR-TEXT</th>\n",
       "      <th>NAME</th>\n",
       "    </tr>\n",
       "  </thead>\n",
       "  <tbody>\n",
       "    <tr>\n",
       "      <th>0</th>\n",
       "      <td>https://onemg.gumlet.io/l_watermark_346,w_480,...</td>\n",
       "      <td>montek lc store at room temperature protected ...</td>\n",
       "      <td>Montek LC tablet</td>\n",
       "    </tr>\n",
       "    <tr>\n",
       "      <th>1</th>\n",
       "      <td>https://onemg.gumlet.io/l_watermark_346,w_480,...</td>\n",
       "      <td>amoxycillin  potassium clavulanate tablets ip ...</td>\n",
       "      <td>Amoxyclav 625 Tablet</td>\n",
       "    </tr>\n",
       "    <tr>\n",
       "      <th>2</th>\n",
       "      <td>https://onemg.gumlet.io/l_watermark_346,w_480,...</td>\n",
       "      <td>Each film-coated tablet contains Azithromycin ...</td>\n",
       "      <td>Azee 500 tablet</td>\n",
       "    </tr>\n",
       "    <tr>\n",
       "      <th>3</th>\n",
       "      <td>https://onemg.gumlet.io/l_watermark_346,w_480,...</td>\n",
       "      <td>Film-coated Manufactured by CADILA PHERDACEUTI...</td>\n",
       "      <td>Aciloc 150 Tablet</td>\n",
       "    </tr>\n",
       "    <tr>\n",
       "      <th>4</th>\n",
       "      <td>https://onemg.gumlet.io/l_watermark_346,w_480,...</td>\n",
       "      <td>Arkamin Arkamin Clonidine Tablets IP</td>\n",
       "      <td>Arkamin tablet</td>\n",
       "    </tr>\n",
       "  </tbody>\n",
       "</table>\n",
       "</div>"
      ],
      "text/plain": [
       "                                         IMAGE LINKS  \\\n",
       "0  https://onemg.gumlet.io/l_watermark_346,w_480,...   \n",
       "1  https://onemg.gumlet.io/l_watermark_346,w_480,...   \n",
       "2  https://onemg.gumlet.io/l_watermark_346,w_480,...   \n",
       "3  https://onemg.gumlet.io/l_watermark_346,w_480,...   \n",
       "4  https://onemg.gumlet.io/l_watermark_346,w_480,...   \n",
       "\n",
       "                                            OCR-TEXT                  NAME  \n",
       "0  montek lc store at room temperature protected ...      Montek LC tablet  \n",
       "1  amoxycillin  potassium clavulanate tablets ip ...  Amoxyclav 625 Tablet  \n",
       "2  Each film-coated tablet contains Azithromycin ...       Azee 500 tablet  \n",
       "3  Film-coated Manufactured by CADILA PHERDACEUTI...     Aciloc 150 Tablet  \n",
       "4              Arkamin Arkamin Clonidine Tablets IP         Arkamin tablet  "
      ]
     },
     "execution_count": 149,
     "metadata": {},
     "output_type": "execute_result"
    }
   ],
   "source": [
    "df_2 = pd.read_csv(\"FINAL_DATASET.csv\")\n",
    "df_2.head()"
   ]
  },
  {
   "cell_type": "code",
   "execution_count": 150,
   "metadata": {},
   "outputs": [],
   "source": [
    "df_2[\"NAME\"] = df_2[\"NAME\"].str.lower()\n",
    "df_2[\"NAME\"] = df_2[\"NAME\"].str.replace(\"  \",\" \")\n"
   ]
  },
  {
   "cell_type": "code",
   "execution_count": 151,
   "metadata": {},
   "outputs": [
    {
     "data": {
      "text/html": [
       "<div>\n",
       "<style scoped>\n",
       "    .dataframe tbody tr th:only-of-type {\n",
       "        vertical-align: middle;\n",
       "    }\n",
       "\n",
       "    .dataframe tbody tr th {\n",
       "        vertical-align: top;\n",
       "    }\n",
       "\n",
       "    .dataframe thead th {\n",
       "        text-align: right;\n",
       "    }\n",
       "</style>\n",
       "<table border=\"1\" class=\"dataframe\">\n",
       "  <thead>\n",
       "    <tr style=\"text-align: right;\">\n",
       "      <th></th>\n",
       "      <th>IMAGE LINKS</th>\n",
       "      <th>OCR-TEXT</th>\n",
       "      <th>NAME</th>\n",
       "    </tr>\n",
       "  </thead>\n",
       "  <tbody>\n",
       "    <tr>\n",
       "      <th>0</th>\n",
       "      <td>https://onemg.gumlet.io/l_watermark_346,w_480,...</td>\n",
       "      <td>montek lc store at room temperature protected ...</td>\n",
       "      <td>montek lc tablet</td>\n",
       "    </tr>\n",
       "    <tr>\n",
       "      <th>1</th>\n",
       "      <td>https://onemg.gumlet.io/l_watermark_346,w_480,...</td>\n",
       "      <td>amoxycillin  potassium clavulanate tablets ip ...</td>\n",
       "      <td>amoxyclav 625 tablet</td>\n",
       "    </tr>\n",
       "    <tr>\n",
       "      <th>2</th>\n",
       "      <td>https://onemg.gumlet.io/l_watermark_346,w_480,...</td>\n",
       "      <td>Each film-coated tablet contains Azithromycin ...</td>\n",
       "      <td>azee 500 tablet</td>\n",
       "    </tr>\n",
       "    <tr>\n",
       "      <th>3</th>\n",
       "      <td>https://onemg.gumlet.io/l_watermark_346,w_480,...</td>\n",
       "      <td>Film-coated Manufactured by CADILA PHERDACEUTI...</td>\n",
       "      <td>aciloc 150 tablet</td>\n",
       "    </tr>\n",
       "    <tr>\n",
       "      <th>4</th>\n",
       "      <td>https://onemg.gumlet.io/l_watermark_346,w_480,...</td>\n",
       "      <td>Arkamin Arkamin Clonidine Tablets IP</td>\n",
       "      <td>arkamin tablet</td>\n",
       "    </tr>\n",
       "  </tbody>\n",
       "</table>\n",
       "</div>"
      ],
      "text/plain": [
       "                                         IMAGE LINKS  \\\n",
       "0  https://onemg.gumlet.io/l_watermark_346,w_480,...   \n",
       "1  https://onemg.gumlet.io/l_watermark_346,w_480,...   \n",
       "2  https://onemg.gumlet.io/l_watermark_346,w_480,...   \n",
       "3  https://onemg.gumlet.io/l_watermark_346,w_480,...   \n",
       "4  https://onemg.gumlet.io/l_watermark_346,w_480,...   \n",
       "\n",
       "                                            OCR-TEXT                  NAME  \n",
       "0  montek lc store at room temperature protected ...      montek lc tablet  \n",
       "1  amoxycillin  potassium clavulanate tablets ip ...  amoxyclav 625 tablet  \n",
       "2  Each film-coated tablet contains Azithromycin ...       azee 500 tablet  \n",
       "3  Film-coated Manufactured by CADILA PHERDACEUTI...     aciloc 150 tablet  \n",
       "4              Arkamin Arkamin Clonidine Tablets IP         arkamin tablet  "
      ]
     },
     "execution_count": 151,
     "metadata": {},
     "output_type": "execute_result"
    }
   ],
   "source": [
    "df_2.head()"
   ]
  },
  {
   "cell_type": "code",
   "execution_count": 154,
   "metadata": {},
   "outputs": [
    {
     "data": {
      "text/plain": [
       "'acton-or tablet sr'"
      ]
     },
     "execution_count": 154,
     "metadata": {},
     "output_type": "execute_result"
    }
   ],
   "source": [
    "list_names_2[7]"
   ]
  },
  {
   "cell_type": "code",
   "execution_count": 156,
   "metadata": {},
   "outputs": [],
   "source": [
    "df_2[\"NAME\"].replace(\"acton-or tablet\",\"acton-or tablet sr\",inplace=True)"
   ]
  },
  {
   "cell_type": "code",
   "execution_count": 157,
   "metadata": {},
   "outputs": [
    {
     "name": "stdout",
     "output_type": "stream",
     "text": [
      "0\n",
      "1\n",
      "2\n",
      "3\n",
      "4\n",
      "5\n",
      "6\n",
      "7\n",
      "8\n",
      "9\n",
      "10\n"
     ]
    },
    {
     "ename": "IndexError",
     "evalue": "index 0 is out of bounds for axis 0 with size 0",
     "output_type": "error",
     "traceback": [
      "\u001b[1;31m---------------------------------------------------------------------------\u001b[0m",
      "\u001b[1;31mIndexError\u001b[0m                                Traceback (most recent call last)",
      "\u001b[1;32mc:\\Users\\Asus\\Documents\\ml\\RV-AI\\sort_chemical_names.ipynb Cell 25\u001b[0m in \u001b[0;36m<cell line: 4>\u001b[1;34m()\u001b[0m\n\u001b[0;32m      <a href='vscode-notebook-cell:/c%3A/Users/Asus/Documents/ml/RV-AI/sort_chemical_names.ipynb#X10sZmlsZQ%3D%3D?line=5'>6</a>\u001b[0m match \u001b[39m=\u001b[39m df_2\u001b[39m.\u001b[39mloc[df_2[\u001b[39m'\u001b[39m\u001b[39mNAME\u001b[39m\u001b[39m'\u001b[39m] \u001b[39m==\u001b[39m name]\n\u001b[0;32m      <a href='vscode-notebook-cell:/c%3A/Users/Asus/Documents/ml/RV-AI/sort_chemical_names.ipynb#X10sZmlsZQ%3D%3D?line=6'>7</a>\u001b[0m \u001b[39mprint\u001b[39m(i)\n\u001b[1;32m----> <a href='vscode-notebook-cell:/c%3A/Users/Asus/Documents/ml/RV-AI/sort_chemical_names.ipynb#X10sZmlsZQ%3D%3D?line=7'>8</a>\u001b[0m image_urls\u001b[39m.\u001b[39mappend([match[\u001b[39m'\u001b[39;49m\u001b[39mIMAGE LINKS\u001b[39;49m\u001b[39m'\u001b[39;49m]\u001b[39m.\u001b[39;49mvalues[\u001b[39m0\u001b[39;49m]])\n\u001b[0;32m      <a href='vscode-notebook-cell:/c%3A/Users/Asus/Documents/ml/RV-AI/sort_chemical_names.ipynb#X10sZmlsZQ%3D%3D?line=8'>9</a>\u001b[0m i\u001b[39m+\u001b[39m\u001b[39m=\u001b[39m\u001b[39m1\u001b[39m\n\u001b[0;32m     <a href='vscode-notebook-cell:/c%3A/Users/Asus/Documents/ml/RV-AI/sort_chemical_names.ipynb#X10sZmlsZQ%3D%3D?line=9'>10</a>\u001b[0m \u001b[39m# print(f'{name}:{match[\"short_composition1\"].values[0]},{match[\"short_composition2\"].values[0]}')\u001b[39;00m\n\u001b[0;32m     <a href='vscode-notebook-cell:/c%3A/Users/Asus/Documents/ml/RV-AI/sort_chemical_names.ipynb#X10sZmlsZQ%3D%3D?line=10'>11</a>\u001b[0m \u001b[39m# print(compositions)\u001b[39;00m\n\u001b[0;32m     <a href='vscode-notebook-cell:/c%3A/Users/Asus/Documents/ml/RV-AI/sort_chemical_names.ipynb#X10sZmlsZQ%3D%3D?line=11'>12</a>\u001b[0m \u001b[39m# break\u001b[39;00m\n\u001b[1;32m   (...)\u001b[0m\n\u001b[0;32m     <a href='vscode-notebook-cell:/c%3A/Users/Asus/Documents/ml/RV-AI/sort_chemical_names.ipynb#X10sZmlsZQ%3D%3D?line=14'>15</a>\u001b[0m \u001b[39m# if len(match) > 0:\u001b[39;00m\n\u001b[0;32m     <a href='vscode-notebook-cell:/c%3A/Users/Asus/Documents/ml/RV-AI/sort_chemical_names.ipynb#X10sZmlsZQ%3D%3D?line=15'>16</a>\u001b[0m \u001b[39m#     compositions.append(match['Composition'].values[0])\u001b[39;00m\n",
      "\u001b[1;31mIndexError\u001b[0m: index 0 is out of bounds for axis 0 with size 0"
     ]
    }
   ],
   "source": [
    "image_urls = []\n",
    "i=0\n",
    "# Iterate over the list of names\n",
    "for name in list_names_2:\n",
    "    # Find the matching name in the dataframe\n",
    "    match = df_2.loc[df_2['NAME'] == name]\n",
    "    print(i)\n",
    "    image_urls.append([match['IMAGE LINKS'].values[0]])\n",
    "    i+=1\n",
    "    # print(f'{name}:{match[\"short_composition1\"].values[0]},{match[\"short_composition2\"].values[0]}')\n",
    "    # print(compositions)\n",
    "    # break\n",
    "    \n",
    "    # If a match is found, append the corresponding chemical composition to the list\n",
    "    # if len(match) > 0:\n",
    "    #     compositions.append(match['Composition'].values[0])\n",
    "\n",
    "print(image_urls)"
   ]
  },
  {
   "cell_type": "code",
   "execution_count": null,
   "metadata": {},
   "outputs": [],
   "source": [
    "print(list_names_2)\n",
    "print(compositions)"
   ]
  },
  {
   "cell_type": "code",
   "execution_count": 181,
   "metadata": {},
   "outputs": [],
   "source": [
    "import pandas as pd\n",
    "\n",
    "df_1 = pd.read_csv(\"name_comp_updated.csv\")\n",
    "df_2 = pd.read_csv(\"sorted_data_updated.csv\")\n",
    "\n",
    "names_1 = [x for x in df_1[\"name\"]]\n",
    "names_2 = [x for x in df_2[\"NAME\"]]\n"
   ]
  },
  {
   "cell_type": "code",
   "execution_count": 182,
   "metadata": {},
   "outputs": [
    {
     "name": "stdout",
     "output_type": "stream",
     "text": [
      "576\n",
      "576\n"
     ]
    }
   ],
   "source": [
    "print(len(names_1))\n",
    "print(len(names_2))"
   ]
  },
  {
   "cell_type": "code",
   "execution_count": 183,
   "metadata": {},
   "outputs": [],
   "source": [
    "for x in names_2:\n",
    "    if x not in names_1:\n",
    "        print(x)\n"
   ]
  },
  {
   "cell_type": "code",
   "execution_count": 184,
   "metadata": {},
   "outputs": [],
   "source": [
    "names_1.sort()\n",
    "names_2.sort()"
   ]
  },
  {
   "cell_type": "code",
   "execution_count": 203,
   "metadata": {},
   "outputs": [
    {
     "name": "stdout",
     "output_type": "stream",
     "text": [
      "Alprazolam (0.25mg)\n",
      "Glimepiride (1mg)\n",
      "Amlodipine (5mg)\n",
      "Amlodipine (5mg)\n",
      "Amlodipine (5mg)\n",
      "Amlodipine (5mg)\n",
      "Hydrochlorothiazide (12.5mg)\n",
      "Clonidine (100mcg)\n",
      "Salbutamol (4mg)\n",
      "Salbutamol (2mg/5ml)\n",
      "Hydroxyzine (10mg)\n",
      "Hydroxyzine (25mg)\n",
      "Atorvastatin (20mg)\n",
      "Atorvastatin (10mg)\n",
      "Pheniramine (25mg)\n",
      "Promethazine (25mg)\n",
      "Azithromycin (500mg)\n",
      "Azithromycin (500mg)\n",
      "Azithromycin (500mg)\n",
      "Sultamicillin tosilate (375mg)\n",
      "Diethylcarbamazine (100mg)\n",
      "Dextromethorphan Hydrobromide (15mg/5ml)\n",
      "Benfotiamine (100mg)\n",
      "Benidipine (8mg)\n",
      "Propranolol (10mg)\n",
      "Propranolol (20mg)\n",
      "Propranolol (40mg)\n",
      "Povidone Iodine (2% w/v)\n",
      "Betamethasone (0.5mg)\n",
      "Betamethasone (0.1% w/w)\n",
      "Metformin (500mg)\n",
      "Bilastine (20mg)\n",
      "Saroglitazar (4mg)\n",
      "Ticagrelor (90mg)\n",
      "Ticagrelor (90mg)\n",
      "Brivaracetam (50mg)\n",
      "Brivaracetam (50mg)\n",
      "Ibuprofen (400mg)\n",
      "Ibuprofen (600mg)\n",
      "Budesonide (0.5mg)\n",
      "Hyoscine butylbromide (10mg)\n",
      "Buspirone (10mg)\n",
      "Paracetamol (500mg)\n",
      "Paracetamol (650mg)\n",
      "Itraconazole (200mg)\n",
      "Cefuroxime (500mg)\n",
      "Cefixime (200mg)\n",
      "Cefuroxime (500mg)\n",
      "Cefpodoxime Proxetil (200mg)\n",
      "Cetirizine (10mg)\n",
      "Trypsin Chymotrypsin (100000AU)\n",
      "Cilnidipine (10mg)\n",
      "Ciprofloxacin (500mg)\n",
      "Ciprofloxacin (0.3% w/v)\n",
      "Clarithromycin (500mg)\n",
      "Bisoprolol (5mg)\n",
      "Bisoprolol (2.5mg)\n",
      "Rabeprazole (20mg)\n",
      "Clindamycin (300mg)\n",
      "Desloratadine (5mg)\n",
      "drolone Decanoate (50mg)\n",
      "Deflazacort (6mg)\n",
      "Medroxyprogesterone acetate (10mg)\n",
      "Dexamethasone (0.5mg)\n",
      "Acetazolamide (250mg)\n",
      "Disulfiram (250mg)\n",
      "Paracetamol (650mg)\n",
      "Piroxicam (20mg)\n",
      "Doxofylline (400mg)\n",
      "Drotaverine (80mg)\n",
      "Lactulose (3.335gm/5ml)\n",
      "Dydrogesterone (10mg)\n",
      "Dapoxetine (30mg)\n",
      "Isoxsuprine (10mg)\n",
      "Dydrogesterone (10mg)\n",
      "Torasemide (10mg)\n",
      "Saccharomyces boulardii (250mg)\n",
      "Aspirin (150mg)\n",
      "Aspirin (75mg)\n",
      "Loperamide (2mg)\n",
      "Metoprolol Succinate (23.75mg)\n",
      "Metoprolol Succinate (47.5mg)\n",
      "Ondansetron (4mg)\n",
      "Quiniodochlor (250mg)\n",
      "Phenytoin (100mg)\n",
      "Etizolam (0.25mg)\n",
      "Etizolam (0.5mg)\n",
      "Etoricoxib (90mg)\n",
      "Famotidine (40mg)\n",
      "Faropenem (200mg)\n",
      "Febuxostat (40mg)\n",
      "Febuxostat (40mg)\n",
      "Finasteride (1mg)\n",
      "Metronidazole (400mg)\n",
      "Trimetazidine (35mg)\n",
      "Fluoxetine (20mg)\n",
      "Fluconazole (150mg)\n",
      "Oseltamivir Phosphate (75mg)\n",
      "Folic Acid (5mg)\n",
      "Dapagliflozin (10mg)\n",
      "Clobazam (5mg)\n",
      "Fusidic Acid (2% w/w)\n",
      "Gabapentin (100mg)\n",
      "Itopride (50mg)\n",
      "Metformin (500mg)\n",
      "Metformin (500mg)\n",
      "Levocloperastine (20mg/5ml)\n",
      "Cefpodoxime Proxetil (200mg)\n",
      "Human chorionic gonadotropin (hCG) (5000IU)\n",
      "Hydroxychloroquine (200mg)\n",
      "Ademetionine (400mg)\n",
      "Diethylcarbamazine (100mg)\n",
      "Hydroxyzine (10mg)\n",
      "Fexofenadine (120mg)\n",
      "Fexofenadine (30mg/5ml)\n",
      "Human chorionic gonadotropin (hCG) (5000IU)\n",
      "Human insulin (40IU)\n",
      "Sodium Hyaluronate (0.18% w/v)\n",
      "Hyoscyamine (0.125mg)\n",
      "Sodium Chloride (3% w/v)\n",
      "Isosorbide Mononitrate (30mg)\n",
      "Loperamide (2mg)\n",
      "Propranolol (10mg)\n",
      "Propranolol (40mg)\n",
      "Indomethacin (75mg)\n",
      "Isotretinoin (20mg)\n",
      "Sitagliptin (100mg)\n",
      "Itraconazole (200mg)\n",
      "Itraconazole (200mg)\n",
      "Ivabradine (5mg)\n",
      "Vildagliptin (50mg)\n",
      "Vildagliptin (100mg)\n",
      "Sitagliptin (100mg)\n",
      "Sitagliptin (50mg)\n",
      "Empagliflozin (10mg)\n",
      "Empagliflozin (25mg)\n",
      "Diclofenac (100mg)\n",
      "Sildenafil (50mg)\n",
      "Lansoprazole (15mg)\n",
      "Lansoprazole (30mg)\n",
      "Rosuvastatin (10mg)\n",
      "Carboxymethylcellulose (0.5% w/v)\n",
      "Dapagliflozin (10mg)\n",
      "Calcium Polystyrene Sulphonate (15gm)\n",
      "Triamcinolone (0.1% w/w)\n",
      "Triamcinolone (40mg/ml)\n",
      "Ketorolac (10mg)\n",
      "Nicorandil (5mg)\n",
      "Ketoconazole (2% w/v)\n",
      "Paracetamol (650mg)\n",
      "Furosemide (40mg)\n",
      "Letrozole (2.5mg)\n",
      "Levetiracetam (500mg)\n",
      "Levetiracetam (500mg)\n",
      "Levocetirizine (5mg)\n",
      "Levofloxacin (500mg)\n",
      "Levosalbutamol (0.63mg)\n",
      "Levosalbutamol (1mg/5ml)\n",
      "Chlordiazepoxide (10mg)\n",
      "Baclofen (10mg)\n",
      "Saroglitazar (4mg)\n",
      "Linezolid (600mg)\n",
      "Sodium Hyaluronate (0.18% w/v)\n",
      "Sildenafil (100mg)\n",
      "Sildenafil (50mg)\n",
      "Mefenamic Acid (100mg/5ml)\n",
      "Medroxyprogesterone acetate (10mg)\n",
      "Metronidazole (400mg)\n",
      "Ceftriaxone (1gm)\n",
      "Cefpodoxime Proxetil (200mg)\n",
      "Acetylcysteine (600mg)\n",
      "Escitalopram Oxalate (10mg)\n",
      "Escitalopram Oxalate (5mg)\n",
      "Esomeprazole (40mg)\n",
      "Nifedipine (20mg)\n",
      "Nitrofurantoin (100mg)\n",
      "Nicorandil (5mg)\n",
      "Nimesulide (100mg)\n",
      "Ofloxacin (200mg)\n",
      "Cetirizine (10mg)\n",
      "Omeprazole (20mg)\n",
      "Omeprazole (20mg)\n",
      "Prednisolone (10mg)\n",
      "Prednisolone (5mg/5ml)\n",
      "Ondansetron (4mg)\n",
      "Ondansetron (4mg)\n",
      "Ondansetron (2mg/5ml)\n",
      "Linagliptin (5mg)\n",
      "Dapagliflozin (10mg)\n",
      "Trihexyphenidyl (2mg)\n",
      "Pantoprazole (40mg)\n",
      "Pantoprazole (40mg)\n",
      "Pantoprazole (40mg)\n",
      "Tranexamic Acid (500mg)\n",
      "Metoclopramide (10mg)\n",
      "Promethazine (5mg/5ml)\n",
      "Sildenafil (100mg)\n",
      "Pregabalin (75mg)\n",
      "Norethisterone (5mg)\n",
      "Metoprolol Succinate (23.75mg)\n",
      "Quetiapine (25mg)\n",
      "Ofloxacin (200mg)\n",
      "Quetiapine (25mg)\n",
      "Acetylcysteine (600mg)\n",
      "Levofloxacin (500mg)\n",
      "Quetiapine (100mg)\n",
      "Quetiapine (25mg)\n",
      "Quetiapine (50mg)\n",
      "Quetiapine (100mg)\n",
      "Quetiapine (25mg)\n",
      "Quetiapine (50mg)\n",
      "Ranitidine (150mg)\n",
      "Levodropropizine (30mg/5ml)\n",
      "Racecadotril (100mg)\n",
      "Carboxymethylcellulose (0.5% w/v)\n",
      "Norethisterone (5mg)\n",
      "Tretinoin (0.025% w/w)\n",
      "Rifaximin (400mg)\n",
      "Rifaximin (550mg)\n",
      "Clonazepam (0.5mg)\n",
      "Loperamide (2mg)\n",
      "Rosuvastatin (10mg)\n",
      "Rosuvastatin (10mg)\n",
      "Roxithromycin (150mg)\n",
      "Flunarizine (10mg)\n",
      "Esomeprazole (40mg)\n",
      "Isosorbide Dinitrate (5mg)\n",
      "Amlodipine (5mg)\n",
      "Prochlorperazine (5mg)\n",
      "Cinnarizine (25mg)\n",
      "Sildenafil (100mg)\n",
      "Progesterone (Natural Micronized) (200mg)\n",
      "Progesterone (Natural Micronized) (200mg)\n",
      "Mupirocin (2% w/w)\n",
      "Cefixime (200mg)\n",
      "Telmisartan (40mg)\n",
      "Telmisartan (40mg)\n",
      "Telmisartan (40mg)\n",
      "Thyroxine (25mcg)\n",
      "Linagliptin (5mg)\n",
      "Tranexamic Acid (500mg)\n",
      "Pentoxifylline (400mg)\n",
      "Amitriptyline (10mg)\n",
      "Sildenafil (100mg)\n",
      "Dapagliflozin (10mg)\n",
      "Ursodeoxycholic Acid (150mg)\n",
      "Ursodeoxycholic Acid (300mg)\n",
      "Piroxicam (20mg)\n",
      "Theophylline (400mg)\n",
      "Vitamin D3 (60000IU)\n",
      "Nitrofurantoin (100mg)\n",
      "Flavoxate (200mg)\n",
      "Tamsulosin (0.4mg)\n",
      "Flavoxate (200mg)\n",
      "Bethanechol (25mg)\n",
      "Ursodeoxycholic Acid (300mg)\n",
      "Tamsulosin (0.4mg)\n",
      "Cinnarizine (25mg)\n",
      "Betahistine (16mg)\n",
      "Betahistine (8mg)\n",
      "Sildenafil (100mg)\n",
      "Sildenafil (50mg)\n",
      "Sildenafil (100mg)\n",
      "Sildenafil (NA)\n",
      "Ondansetron (4mg)\n",
      "Ondansetron (2mg/5ml)\n",
      "Diclofenac (100mg)\n",
      "Live Freeze Dried Lactic Acid Bacteria and Bifidobacteria (112.5Billion CFU)\n",
      "Colistin Sulphate (12.5mg)\n",
      "Warfarin (5mg)\n",
      "Olopatadine (0.1% w/v)\n",
      "Amoxycillin (500mg)\n",
      "Prednisolone (10mg)\n",
      "Prednisolone (20mg)\n",
      "Prednisolone (40mg)\n",
      "Prednisolone (5mg)\n",
      "Safinamide (50mg)\n",
      "Rivaroxaban (10mg)\n",
      "Rivaroxaban (15mg)\n",
      "Rivaroxaban (20mg)\n",
      "Ketoconazole (2% w/w)\n",
      "Sildenafil (50mg)\n",
      "Ceftriaxone (1000mg)\n",
      "Atorvastatin (10mg)\n",
      "Ticagrelor (90mg)\n",
      "Paracetamol (650mg)\n",
      "Lidocaine (2%)\n",
      "Lidocaine (2% w/v)\n",
      "Lidocaine (10% w/v)\n",
      "Levocetirizine (5mg)\n",
      "Levocetirizine (2.5mg/5ml)\n",
      "Tadalafil (10mg)\n",
      "Tadalafil (2.5mg)\n",
      "Tadalafil (5mg)\n",
      "Esomeprazole (40mg)\n",
      "Chlorpromazine (25mg)\n",
      "Chlorpromazine (50mg)\n",
      "Deflazacort (6mg)\n",
      "Telmisartan (40mg)\n",
      "Clobazam (10mg)\n",
      "Ulipristal acetate (5mg)\n",
      "Clonazepam (0.25mg)\n",
      "Clonazepam (0.5mg)\n",
      "Albendazole (400mg)\n",
      "Albendazole (400mg)\n",
      "Aceclofenac (100mg)\n",
      "Cefixime (200mg)\n",
      "Cefuroxime (500mg)\n",
      "Zolpidem (10mg)\n",
      "Zolpidem (5mg)\n",
      "Allopurinol (100mg)\n",
      "Choline Salicylate (9% w/v)\n"
     ]
    }
   ],
   "source": [
    "for x in df_2[\"composition\"]:\n",
    "    if x.strip()[-1] == \",\":\n",
    "        x = x.strip()[:-1]\n",
    "        # Replace the old value with the new value in the df\n",
    "        df_2[\"composition\"].replace(x,x,inplace=True)\n",
    "        print(x)\n"
   ]
  },
  {
   "cell_type": "code",
   "execution_count": 204,
   "metadata": {},
   "outputs": [
    {
     "data": {
      "text/html": [
       "<div>\n",
       "<style scoped>\n",
       "    .dataframe tbody tr th:only-of-type {\n",
       "        vertical-align: middle;\n",
       "    }\n",
       "\n",
       "    .dataframe tbody tr th {\n",
       "        vertical-align: top;\n",
       "    }\n",
       "\n",
       "    .dataframe thead th {\n",
       "        text-align: right;\n",
       "    }\n",
       "</style>\n",
       "<table border=\"1\" class=\"dataframe\">\n",
       "  <thead>\n",
       "    <tr style=\"text-align: right;\">\n",
       "      <th></th>\n",
       "      <th>URL</th>\n",
       "      <th>OCR</th>\n",
       "      <th>NAME</th>\n",
       "      <th>composition</th>\n",
       "    </tr>\n",
       "  </thead>\n",
       "  <tbody>\n",
       "    <tr>\n",
       "      <th>0</th>\n",
       "      <td>https://onemg.gumlet.io/l_watermark_346,w_480,...</td>\n",
       "      <td>ab-flo-n each film coated bilayered tablet con...</td>\n",
       "      <td>ab-flo-n tablet</td>\n",
       "      <td>Acebrophylline (100mg) ,  Acetylcysteine (600mg)</td>\n",
       "    </tr>\n",
       "    <tr>\n",
       "      <th>1</th>\n",
       "      <td>https://onemg.gumlet.io/l_watermark_346,w_480,...</td>\n",
       "      <td>each acemiz plus coined tablet contains:  stor...</td>\n",
       "      <td>acemiz plus tablet</td>\n",
       "      <td>Aceclofenac (100mg) ,  Paracetamol (325mg)</td>\n",
       "    </tr>\n",
       "    <tr>\n",
       "      <th>2</th>\n",
       "      <td>https://onemg.gumlet.io/l_watermark_346,w_480,...</td>\n",
       "      <td>avenac-p acenac</td>\n",
       "      <td>acenac-p tablet</td>\n",
       "      <td>Aceclofenac (100mg) ,  Paracetamol (325mg)</td>\n",
       "    </tr>\n",
       "    <tr>\n",
       "      <th>3</th>\n",
       "      <td>https://onemg.gumlet.io/l_watermark_346,w_480,...</td>\n",
       "      <td>film-coated manufactured by cadila pherdaceuti...</td>\n",
       "      <td>aciloc 150 tablet</td>\n",
       "      <td>Ranitidine (150mg)</td>\n",
       "    </tr>\n",
       "    <tr>\n",
       "      <th>4</th>\n",
       "      <td>https://onemg.gumlet.io/l_watermark_346,w_480,...</td>\n",
       "      <td>tablets film-coated ranitidine tablets ip 150 ...</td>\n",
       "      <td>aciloc 300 tablet</td>\n",
       "      <td>Ranitidine (300mg)</td>\n",
       "    </tr>\n",
       "  </tbody>\n",
       "</table>\n",
       "</div>"
      ],
      "text/plain": [
       "                                                 URL  \\\n",
       "0  https://onemg.gumlet.io/l_watermark_346,w_480,...   \n",
       "1  https://onemg.gumlet.io/l_watermark_346,w_480,...   \n",
       "2  https://onemg.gumlet.io/l_watermark_346,w_480,...   \n",
       "3  https://onemg.gumlet.io/l_watermark_346,w_480,...   \n",
       "4  https://onemg.gumlet.io/l_watermark_346,w_480,...   \n",
       "\n",
       "                                                 OCR                NAME  \\\n",
       "0  ab-flo-n each film coated bilayered tablet con...     ab-flo-n tablet   \n",
       "1  each acemiz plus coined tablet contains:  stor...  acemiz plus tablet   \n",
       "2                                    avenac-p acenac     acenac-p tablet   \n",
       "3  film-coated manufactured by cadila pherdaceuti...   aciloc 150 tablet   \n",
       "4  tablets film-coated ranitidine tablets ip 150 ...   aciloc 300 tablet   \n",
       "\n",
       "                                        composition  \n",
       "0  Acebrophylline (100mg) ,  Acetylcysteine (600mg)  \n",
       "1        Aceclofenac (100mg) ,  Paracetamol (325mg)  \n",
       "2        Aceclofenac (100mg) ,  Paracetamol (325mg)  \n",
       "3                                Ranitidine (150mg)  \n",
       "4                                Ranitidine (300mg)  "
      ]
     },
     "execution_count": 204,
     "metadata": {},
     "output_type": "execute_result"
    }
   ],
   "source": [
    "df_2.head()"
   ]
  },
  {
   "cell_type": "code",
   "execution_count": 205,
   "metadata": {},
   "outputs": [],
   "source": [
    "#write df_2 to csv\n",
    "df_2.to_csv('FULLY_WORKING_DATASET.csv', index=False)"
   ]
  },
  {
   "cell_type": "code",
   "execution_count": null,
   "metadata": {},
   "outputs": [],
   "source": []
  }
 ],
 "metadata": {
  "kernelspec": {
   "display_name": "torch-gpu",
   "language": "python",
   "name": "python3"
  },
  "language_info": {
   "codemirror_mode": {
    "name": "ipython",
    "version": 3
   },
   "file_extension": ".py",
   "mimetype": "text/x-python",
   "name": "python",
   "nbconvert_exporter": "python",
   "pygments_lexer": "ipython3",
   "version": "3.8.13"
  },
  "orig_nbformat": 4,
  "vscode": {
   "interpreter": {
    "hash": "ea9ceb0b7e3f457d29129ad6ad6d3750fd1ab50a0da3c37c2bb5b7c85d56784f"
   }
  }
 },
 "nbformat": 4,
 "nbformat_minor": 2
}
