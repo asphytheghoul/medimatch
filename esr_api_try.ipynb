{
 "cells": [
  {
   "cell_type": "code",
   "execution_count": 1,
   "metadata": {},
   "outputs": [
    {
     "data": {
      "text/plain": [
       "'1650a0d32e8b8479a78af02282415828724f891a'"
      ]
     },
     "execution_count": 1,
     "metadata": {},
     "output_type": "execute_result"
    }
   ],
   "source": [
    "from dotenv import load_dotenv\n",
    "import os \n",
    "load_dotenv()\n",
    "my_var = os.getenv(\"REPLICATE_API_TOKEN\")\n",
    "my_var"
   ]
  },
  {
   "cell_type": "code",
   "execution_count": 8,
   "metadata": {},
   "outputs": [
    {
     "name": "stdout",
     "output_type": "stream",
     "text": [
      "https://replicate.delivery/pbxt/eTKzJEEwp6zJMCOGz9Rm6m4CB3BjaoBzkL2qXRUEBDiHrcOIA/output.png\n"
     ]
    }
   ],
   "source": [
    "import replicate\n",
    "\n",
    "model = replicate.models.get(\"nightmareai/real-esrgan\")\n",
    "version = model.versions.get(\"42fed1c4974146d4d2414e2be2c5277c7fcf05fcc3a73abf41610695738c1d7b\")\n",
    "\n",
    "# https://replicate.com/nightmareai/real-esrgan/versions/42fed1c4974146d4d2414e2be2c5277c7fcf05fcc3a73abf41610695738c1d7b#input\n",
    "inputs = {\n",
    "    # Input image\n",
    "    'image': open(\"images/test_for_esr.webp\", \"rb\"),\n",
    "\n",
    "    # Factor to scale image by\n",
    "    # Range: 0 to 10\n",
    "    'scale': 2,\n",
    "\n",
    "    # Face enhance\n",
    "    'face_enhance': True,\n",
    "}\n",
    "\n",
    "# https://replicate.com/nightmareai/real-esrgan/versions/42fed1c4974146d4d2414e2be2c5277c7fcf05fcc3a73abf41610695738c1d7b#output-schema\n",
    "output = version.predict(**inputs)\n",
    "print(output)\n"
   ]
  },
  {
   "cell_type": "code",
   "execution_count": 1,
   "metadata": {},
   "outputs": [],
   "source": [
    "import pandas as pd\n",
    "df = pd.read_csv(\"FINAL_DATASET.csv\")"
   ]
  },
  {
   "cell_type": "code",
   "execution_count": 3,
   "metadata": {},
   "outputs": [
    {
     "data": {
      "text/html": [
       "<div>\n",
       "<style scoped>\n",
       "    .dataframe tbody tr th:only-of-type {\n",
       "        vertical-align: middle;\n",
       "    }\n",
       "\n",
       "    .dataframe tbody tr th {\n",
       "        vertical-align: top;\n",
       "    }\n",
       "\n",
       "    .dataframe thead th {\n",
       "        text-align: right;\n",
       "    }\n",
       "</style>\n",
       "<table border=\"1\" class=\"dataframe\">\n",
       "  <thead>\n",
       "    <tr style=\"text-align: right;\">\n",
       "      <th></th>\n",
       "      <th>IMAGE LINKS</th>\n",
       "      <th>OCR-TEXT</th>\n",
       "      <th>NAME</th>\n",
       "    </tr>\n",
       "  </thead>\n",
       "  <tbody>\n",
       "    <tr>\n",
       "      <th>0</th>\n",
       "      <td>https://onemg.gumlet.io/l_watermark_346,w_480,...</td>\n",
       "      <td>montek lc store at room temperature protected ...</td>\n",
       "      <td>Montek LC tablet</td>\n",
       "    </tr>\n",
       "    <tr>\n",
       "      <th>1</th>\n",
       "      <td>https://onemg.gumlet.io/l_watermark_346,w_480,...</td>\n",
       "      <td>amoxycillin  potassium clavulanate tablets ip ...</td>\n",
       "      <td>Amoxyclav 625 Tablet</td>\n",
       "    </tr>\n",
       "    <tr>\n",
       "      <th>2</th>\n",
       "      <td>https://onemg.gumlet.io/l_watermark_346,w_480,...</td>\n",
       "      <td>Each film-coated tablet contains Azithromycin ...</td>\n",
       "      <td>Azee 500 tablet</td>\n",
       "    </tr>\n",
       "    <tr>\n",
       "      <th>3</th>\n",
       "      <td>https://onemg.gumlet.io/l_watermark_346,w_480,...</td>\n",
       "      <td>Film-coated Manufactured by CADILA PHERDACEUTI...</td>\n",
       "      <td>Aciloc 150 Tablet</td>\n",
       "    </tr>\n",
       "    <tr>\n",
       "      <th>4</th>\n",
       "      <td>https://onemg.gumlet.io/l_watermark_346,w_480,...</td>\n",
       "      <td>Arkamin Arkamin Clonidine Tablets IP</td>\n",
       "      <td>Arkamin tablet</td>\n",
       "    </tr>\n",
       "  </tbody>\n",
       "</table>\n",
       "</div>"
      ],
      "text/plain": [
       "                                         IMAGE LINKS  \\\n",
       "0  https://onemg.gumlet.io/l_watermark_346,w_480,...   \n",
       "1  https://onemg.gumlet.io/l_watermark_346,w_480,...   \n",
       "2  https://onemg.gumlet.io/l_watermark_346,w_480,...   \n",
       "3  https://onemg.gumlet.io/l_watermark_346,w_480,...   \n",
       "4  https://onemg.gumlet.io/l_watermark_346,w_480,...   \n",
       "\n",
       "                                            OCR-TEXT                  NAME  \n",
       "0  montek lc store at room temperature protected ...      Montek LC tablet  \n",
       "1  amoxycillin  potassium clavulanate tablets ip ...  Amoxyclav 625 Tablet  \n",
       "2  Each film-coated tablet contains Azithromycin ...       Azee 500 tablet  \n",
       "3  Film-coated Manufactured by CADILA PHERDACEUTI...     Aciloc 150 Tablet  \n",
       "4              Arkamin Arkamin Clonidine Tablets IP         Arkamin tablet  "
      ]
     },
     "execution_count": 3,
     "metadata": {},
     "output_type": "execute_result"
    }
   ],
   "source": [
    "df.head()"
   ]
  },
  {
   "cell_type": "code",
   "execution_count": null,
   "metadata": {},
   "outputs": [],
   "source": []
  }
 ],
 "metadata": {
  "kernelspec": {
   "display_name": "torch-gpu",
   "language": "python",
   "name": "python3"
  },
  "language_info": {
   "codemirror_mode": {
    "name": "ipython",
    "version": 3
   },
   "file_extension": ".py",
   "mimetype": "text/x-python",
   "name": "python",
   "nbconvert_exporter": "python",
   "pygments_lexer": "ipython3",
   "version": "3.8.13"
  },
  "orig_nbformat": 4,
  "vscode": {
   "interpreter": {
    "hash": "ea9ceb0b7e3f457d29129ad6ad6d3750fd1ab50a0da3c37c2bb5b7c85d56784f"
   }
  }
 },
 "nbformat": 4,
 "nbformat_minor": 2
}
