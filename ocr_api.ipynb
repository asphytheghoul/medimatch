{
 "cells": [
  {
   "cell_type": "code",
   "execution_count": 8,
   "metadata": {},
   "outputs": [
    {
     "name": "stdout",
     "output_type": "stream",
     "text": [
      "{\"results\":[{\"status\":{\"code\":\"ok\",\"message\":\"Success\"},\"name\":\"https://i.imgur.com/d9pZxcn.jpg\",\"md5\":\"becd389eb7e82c56735692853892ccbc\",\"entities\":[{\"kind\":\"objects\",\"name\":\"text\",\"objects\":[{\"box\":[-0.006,-0.0065,1.0173333333333334,0.65425],\"entities\":[{\"kind\":\"text\",\"name\":\"text\",\"text\":\"HEDULE G PRESCRIPTION DRUG-CAU\\nangerous to take this preparation except under\\nmedical supervision.\\nIndia by\\nca\\nboratories Ltd.\\n93, Melli Jorethang Road, Gom Block,\\nla, South District, Sikkim 737 121\\n1:48, Kandivli Ind. Estate, Mumbai 400 067\\nne time chloride 10 mg\\nTablets\\naking more than daily dose of Paracetamol\\nserious hver damage or allergic reactions\\nof the for, mouth and throat, difficulty in\\nthing or rash)\\\"\\nG PRESCRIPTI\\nus to take this pre\\nmedical supe\\nby\\nories Ltd,\\nRUG-CAUTION\\non except under\\nFHTLLD\\nFHTLU\\nSolvin\\nR\\nSolvinCold\\nR\\ninCold\\n51.10/10 TABS.\\nB.No.HTL061014BH M.R.P. INCLUSIVE\\nMFD.SEP.2021 OF ALL TAXES\\nEXP.AUG.2023\"}]}]}]}]}\n"
     ]
    }
   ],
   "source": [
    "import requests\n",
    "\n",
    "url = \"https://ocr43.p.rapidapi.com/v1/results\"\n",
    "\n",
    "payload = \"url=https%3A%2F%2Fi.imgur.com%2Fd9pZxcn.jpg\"\n",
    "headers = {\n",
    "\t\"content-type\": \"application/x-www-form-urlencoded\",\n",
    "\t\"X-RapidAPI-Key\": \"f6384199c0msh6b948a84b2e88a2p1d8897jsn065a3a4c8acd\",\n",
    "\t\"X-RapidAPI-Host\": \"ocr43.p.rapidapi.com\"\n",
    "}\n",
    "\n",
    "response = requests.request(\"POST\", url, data=payload, headers=headers)\n",
    "\n",
    "print(response.text)"
   ]
  },
  {
   "cell_type": "code",
   "execution_count": null,
   "metadata": {},
   "outputs": [],
   "source": []
  }
 ],
 "metadata": {
  "kernelspec": {
   "display_name": "torch-gpu",
   "language": "python",
   "name": "python3"
  },
  "language_info": {
   "codemirror_mode": {
    "name": "ipython",
    "version": 3
   },
   "file_extension": ".py",
   "mimetype": "text/x-python",
   "name": "python",
   "nbconvert_exporter": "python",
   "pygments_lexer": "ipython3",
   "version": "3.8.13"
  },
  "orig_nbformat": 4,
  "vscode": {
   "interpreter": {
    "hash": "ea9ceb0b7e3f457d29129ad6ad6d3750fd1ab50a0da3c37c2bb5b7c85d56784f"
   }
  }
 },
 "nbformat": 4,
 "nbformat_minor": 2
}
