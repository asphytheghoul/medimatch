{
 "cells": [
  {
   "cell_type": "code",
   "execution_count": null,
   "metadata": {},
   "outputs": [],
   "source": []
  }
 ],
 "metadata": {
  "kernelspec": {
   "display_name": "torch-gpu",
   "language": "python",
   "name": "python3"
  },
  "language_info": {
   "name": "python",
   "version": "3.8.13"
  },
  "orig_nbformat": 4,
  "vscode": {
   "interpreter": {
    "hash": "ea9ceb0b7e3f457d29129ad6ad6d3750fd1ab50a0da3c37c2bb5b7c85d56784f"
   }
  }
 },
 "nbformat": 4,
 "nbformat_minor": 2
}
